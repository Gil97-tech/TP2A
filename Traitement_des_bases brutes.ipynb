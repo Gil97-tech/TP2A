{
 "cells": [
  {
   "cell_type": "markdown",
   "metadata": {},
   "source": [
    "#### Auteurs:\n",
    "- *DIAGNE Elhadji Magatte*\n",
    "- *DJIMENE TSOTSOP Staelle*\n",
    "- *DONGMO TIOGUIM Gilchrist Loïc*"
   ]
  },
  {
   "cell_type": "markdown",
   "metadata": {},
   "source": [
    "#### Nettoyage et fusion des bases obtenues apres webscrapping"
   ]
  },
  {
   "cell_type": "code",
   "execution_count": null,
   "metadata": {},
   "outputs": [],
   "source": [
    "df=pd.read_csv('https://raw.githubusercontent.com/Gil97-tech/TP2A/master/final_dataListing.csv')"
   ]
  },
  {
   "cell_type": "code",
   "execution_count": null,
   "metadata": {},
   "outputs": [],
   "source": [
    "df2=pd.read_csv('https://raw.githubusercontent.com/Gil97-tech/TP2A/master/final_database.csv')"
   ]
  },
  {
   "cell_type": "code",
   "execution_count": null,
   "metadata": {},
   "outputs": [],
   "source": [
    "## Colonne du nombre de commentaires, on retire les parentheses et on transforme en numeque\n",
    "\n",
    "df2['nbComments'] = df2['nbComments'].str.replace(r'\\D','')\n",
    "\n",
    "df2['nbComments']=np.where(df2['nbComments']=='',0,df2['nbComments'])\n",
    "\n",
    "df2.loc[:, \"nbComments\"] = pd.to_numeric(df2.nbComments)\n",
    "\n",
    "df2.sort_values(['nbComments'], ascending=False)"
   ]
  },
  {
   "cell_type": "code",
   "execution_count": null,
   "metadata": {},
   "outputs": [],
   "source": [
    "#Colonne des evaluations\n",
    "\n",
    "df2['evaluation']=np.where(df2['evaluation']==\"pas d'évaluation\",0,df2['evaluation'])\n",
    "\n",
    "df2.loc[:, \"evaluation\"] = pd.to_numeric(df2.evaluation)\n"
   ]
  },
  {
   "cell_type": "code",
   "execution_count": null,
   "metadata": {},
   "outputs": [],
   "source": [
    "## Traitement de la colonne des prix:\n",
    "\n",
    "df2['prix']=df2['prix'].str.replace(\":\", \"/\").str.split(\"/\",n = 0, expand = True)[1]\n",
    "df2['prix']=df2['prix'].str.replace('€','')\n",
    "df2['prix']=df2['prix'].str.replace('Prix réduit','')\n",
    "df2['prix']=df2['prix'].str.replace('Discounted price','')\n",
    "\n",
    "## Conversion en une monnaie unique notamment en Euros\n",
    "\n",
    "def conversion(df):\n",
    "    n=len(df)\n",
    "    for i in range(n):\n",
    "        try:\n",
    "            df[i]=float(df[i])\n",
    "        except:\n",
    "            df[i]=1.21*float(df[i].strip('$'))\n",
    "    return df\n",
    "df2['prix']=conversion(df2['prix'])\n"
   ]
  },
  {
   "cell_type": "code",
   "execution_count": null,
   "metadata": {},
   "outputs": [],
   "source": [
    "## Identifiant des listings dans la base\n",
    "n=range(1,286)\n",
    "df2.drop(['Unnamed: 0'], inplace=True, axis=1)\n",
    "\n",
    "df2['numero_listing']=n\n",
    "\n",
    "##Selection des listings avec les  commentaires\n",
    "\n",
    "df_wcomment=df2[df2['nbComments']!=0].sort_values(['nbComments'], ascending=False)\n"
   ]
  },
  {
   "cell_type": "code",
   "execution_count": null,
   "metadata": {},
   "outputs": [],
   "source": [
    "# jointures des deux bases pour avoir une base des listings avec les commentaires pour chaque listing\n",
    "df3 = pd.merge(df2[['title', 'nbComments', 'evaluation',\n",
    "                          'topRow', 'prix','numero_listing']], df,\n",
    "                left_on='numero_listing',right_on ='index', how='left')"
   ]
  },
  {
   "cell_type": "code",
   "execution_count": null,
   "metadata": {},
   "outputs": [],
   "source": [
    "#Traitement de la colonne des caracteristiques des logements\n",
    "\n",
    "def cleanRoomInfo(df):\n",
    "    df.loc[:, \"guests\"] = df.loc[:, \"roomInfo\"].str.split(\" · \", n = 0, expand = True)[0].str.replace(\" guest\", \"\").str.replace(\"s\", \"\")\n",
    "    df.loc[:, \"bedrooms\"] = df.loc[:, \"roomInfo\"].str.split(\" . \", n = 0, expand = True)[1].str.replace(\" bedroom\", \"\").str.replace(\"s\", \"\")\n",
    "    df.loc[:, \"beds\"] = df.loc[:, \"roomInfo\"].str.split(\" . \", n = 0, expand = True)[2].str.replace(\" bed\", \"\").str.replace(\"s\", \"\")\n",
    "    df.loc[:, \"bathrooms\"] = df.loc[:, \"roomInfo\"].str.split(\" . \", n = 0, expand = True)[3].str.replace(\" bath\", \"\").str.replace(\"s\", \"\")\n",
    "    df.loc[:, \"guests\"] = df.loc[:, \"guests\"].str.replace(\" voyageur\", \"\").str.replace(\"s\", \"\") \n",
    "    df.loc[:, \"bedrooms\"] = df.loc[:, \"bedrooms\"].str.replace(\" chambre\", \"\").str.replace(\"s\", \"\") \n",
    "    df.loc[:, \"beds\"]=df.loc[:, \"beds\"].str.replace(\" lit\", \"\").str.replace(\"s\", \"\") \n",
    "    df.loc[:, \"bathrooms\"]=df.loc[:, \"bathrooms\"].str.replace(\" alle de bain\", \"\").str.replace(\"s\", \"\")\n",
    "    df.loc[:, \"guests\"] = pd.to_numeric(df.guests, errors = 'coerce')\n",
    "    df.loc[:, \"beds\"] = pd.to_numeric(df.beds, errors = 'coerce')\n",
    "    df.loc[:, \"bedrooms\"] = pd.to_numeric(df.bedrooms.str.split(\" \", n = 0, expand = True)[0], errors = \"coerce\")\n",
    "    df.loc[:, \"bathrooms\"] = pd.to_numeric(df.bathrooms.str.split(\" \", n = 0, expand = True)[0], errors = \"coerce\")\n",
    "    return df.drop(\"roomInfo\", axis = 1)\n",
    "\n"
   ]
  }
 ],
 "metadata": {
  "kernelspec": {
   "display_name": "Python 3",
   "language": "python",
   "name": "python3"
  },
  "language_info": {
   "codemirror_mode": {
    "name": "ipython",
    "version": 3
   },
   "file_extension": ".py",
   "mimetype": "text/x-python",
   "name": "python",
   "nbconvert_exporter": "python",
   "pygments_lexer": "ipython3",
   "version": "3.8.3"
  }
 },
 "nbformat": 4,
 "nbformat_minor": 4
}
